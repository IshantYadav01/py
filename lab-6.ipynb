{
 "cells": [
  {
   "cell_type": "markdown",
   "id": "f1c56f0e-63b5-47a5-918a-f5c2284ca73e",
   "metadata": {},
   "source": [
    "## OOP  IN ADVANCED COMPUTER PROGRAMMING\n"
   ]
  },
  {
   "cell_type": "markdown",
   "id": "0f353a35-9736-4e69-9457-9e290a2772a7",
   "metadata": {},
   "source": [
    "1. Define a class Student with attributes name, roll_number, and marks. Implement a method display_info() that prints the details of the student. Create an instance of Student and call the display_info() method to display the student's details.\n"
   ]
  },
  {
   "cell_type": "code",
   "execution_count": 4,
   "id": "c0c47c0d-aaac-4f65-af65-1caf5318d4a4",
   "metadata": {},
   "outputs": [
    {
     "name": "stdout",
     "output_type": "stream",
     "text": [
      "Student Details:\n",
      "Name=Ishant\n",
      "Roll no.=081bel036\n",
      "Marks=99\n"
     ]
    }
   ],
   "source": [
    "class Student:\n",
    "    def __init__(self,name,roll_number,marks):\n",
    "        self.name=name\n",
    "        self.roll_number=roll_number\n",
    "        self.marks=marks\n",
    "    def display_info(self):\n",
    "        print(\"Student Details:\")\n",
    "        print(f'Name={self.name}\\nRoll no.={self.roll_number}\\nMarks={self.marks}')\n",
    "s1=Student(\"Ishant\",\"081bel036\",99)\n",
    "s1.display_info()"
   ]
  },
  {
   "cell_type": "markdown",
   "id": "c247338a-ea56-41d5-9c89-f7401d053516",
   "metadata": {},
   "source": [
    "2. Create a base class Animal with a method speak() that prints \"Animal makes a sound\". Derive a class Dog from Animal and override the speak() method to print \"Dog barks\". Instantiate the Dog class and call its speak() method.\n"
   ]
  },
  {
   "cell_type": "code",
   "execution_count": 7,
   "id": "5f97f959-90b3-42ec-94ec-efa9e7b899b6",
   "metadata": {},
   "outputs": [
    {
     "name": "stdout",
     "output_type": "stream",
     "text": [
      "Dog barks\n"
     ]
    }
   ],
   "source": [
    "class Animal:\n",
    "    def speak(self):\n",
    "        print(\"Animal makes a sound\")\n",
    "class Dog(Animal):\n",
    "    def speak(self):\n",
    "        print(\"Dog barks\")\n",
    "d=Dog()\n",
    "d.speak()"
   ]
  },
  {
   "cell_type": "markdown",
   "id": "d77871c8-c887-486e-98bd-8dafae9212ac",
   "metadata": {},
   "source": [
    "3. Define a class BankAccount with private attributes account_number and balance. Implement methods to deposit and withdraw money, ensuring that the balance cannot go below zero. Provide a method to get the account details. Test the class by performing deposit and withdrawal operations.\n"
   ]
  },
  {
   "cell_type": "code",
   "execution_count": 8,
   "id": "086c5c13-f7bd-4db2-ab6c-9d3f3c04f977",
   "metadata": {},
   "outputs": [
    {
     "name": "stdout",
     "output_type": "stream",
     "text": [
      "Account Details:\n",
      "Account Number:1234abcd\n",
      " Balance:500\n",
      "Rs1000 deposited successfully\n",
      "Rs1000 withdrawn successfully\n",
      "insufficient balance\n",
      "Account Details:\n",
      "Account Number:1234abcd\n",
      " Balance:500\n"
     ]
    }
   ],
   "source": [
    "class BankAccount:\n",
    "    def __init__(self,account_number,balance=0):\n",
    "        self.__account_number=account_number\n",
    "        self.__balance=balance\n",
    "    def deposit(self,amount):\n",
    "        self.__balance+=amount\n",
    "        print(f\"Rs{amount} deposited successfully\")\n",
    "    def withdraw(self,amount):\n",
    "        if(amount>self.__balance):\n",
    "            print(\"insufficient balance\")\n",
    "        else:\n",
    "            self.__balance-=amount\n",
    "            print(f\"Rs{amount} withdrawn successfully\")\n",
    "    def get_account_details(self):\n",
    "        print(\"Account Details:\")\n",
    "        print(f\"Account Number:{self.__account_number}\\n Balance:{self.__balance}\")\n",
    "a1=BankAccount(\"1234abcd\",500)\n",
    "a1.get_account_details()\n",
    "a1.deposit(1000)\n",
    "a1.withdraw(1000)\n",
    "a1.withdraw(700)\n",
    "a1.get_account_details()"
   ]
  },
  {
   "cell_type": "markdown",
   "id": "20bdfc19-e150-4318-ade5-68ae5ec1a13c",
   "metadata": {},
   "source": [
    "4. Create a base class Shape with a method area(). Derive two classes Rectangle and Circle from Shape. Implement the area() method in both derived classes. Instantiate Rectangle and Circle, and demonstrate polymorphism by calling their area() methods.\n"
   ]
  },
  {
   "cell_type": "code",
   "execution_count": 9,
   "id": "96bba157-443c-4377-bb36-9ee3df21686b",
   "metadata": {},
   "outputs": [
    {
     "name": "stdout",
     "output_type": "stream",
     "text": [
      "Area: 300\n",
      "Area: 615.44\n"
     ]
    }
   ],
   "source": [
    "class Shape:\n",
    "    def area(self):\n",
    "        pass\n",
    "class Rectangle(Shape):\n",
    "    def __init__(self,l,b):\n",
    "        self.length=l\n",
    "        self.breadth=b\n",
    "    def area(self):\n",
    "        return self.length*self.breadth\n",
    "class Circle(Shape):\n",
    "    def __init__(self,r):\n",
    "        self.radius=r\n",
    "    def area(self):\n",
    "        return self.radius*self.radius*3.14\n",
    "shapes = [Rectangle(10,30), Circle(14)]\n",
    "for shape in shapes:\n",
    "    print(f\"Area: {shape.area()}\")"
   ]
  },
  {
   "cell_type": "markdown",
   "id": "7b9786e4-a7d1-4b4c-85fd-281c045d119c",
   "metadata": {},
   "source": [
    "5. Define a class Person with attributes name and age. Derive a class Employee from Person with additional attributes employee_id and salary. Implement a method display_employee() in Employee that prints all the details. Create an instance of Employee and display the information.\n"
   ]
  },
  {
   "cell_type": "code",
   "execution_count": 10,
   "id": "916b7869-a776-41fd-920b-dfa961cc03ad",
   "metadata": {},
   "outputs": [
    {
     "name": "stdout",
     "output_type": "stream",
     "text": [
      "Employee Details:\n",
      "Name:Ram\n",
      "Age:27\n",
      "Employee_id:Aa11\n",
      "Salary:20000\n"
     ]
    }
   ],
   "source": [
    "class Person:\n",
    "    def __init__(self,name,age):\n",
    "        self.name=name\n",
    "        self.age=age\n",
    "class Employee(Person):\n",
    "    def __init__(self,name,age,employee_id,salary):\n",
    "        super().__init__(name,age)\n",
    "        self.employee_id=employee_id\n",
    "        self.salary=salary\n",
    "    def display_employee(self):\n",
    "        print(\"Employee Details:\")\n",
    "        print(f'Name:{self.name}')\n",
    "        print(f'Age:{self.age}')\n",
    "        print(f'Employee_id:{self.employee_id}')\n",
    "        print(f'Salary:{self.salary}')\n",
    "e1=Employee(\"Ram\",27,\"Aa11\",20000)\n",
    "e1.display_employee()"
   ]
  },
  {
   "cell_type": "markdown",
   "id": "0b452497-4d11-4961-ab35-48b618a092b6",
   "metadata": {},
   "source": [
    "6. Define a class Vector with attributes x and y. Overload the + operator to add two Vector objects. Implement the __add__() method and test it by adding two Vector instances."
   ]
  },
  {
   "cell_type": "code",
   "execution_count": null,
   "id": "c0091af1-709b-448a-891e-51c4d8f34b27",
   "metadata": {},
   "outputs": [],
   "source": []
  }
 ],
 "metadata": {
  "kernelspec": {
   "display_name": "Python 3 (ipykernel)",
   "language": "python",
   "name": "python3"
  },
  "language_info": {
   "codemirror_mode": {
    "name": "ipython",
    "version": 3
   },
   "file_extension": ".py",
   "mimetype": "text/x-python",
   "name": "python",
   "nbconvert_exporter": "python",
   "pygments_lexer": "ipython3",
   "version": "3.13.5"
  }
 },
 "nbformat": 4,
 "nbformat_minor": 5
}
