{
 "cells": [
  {
   "cell_type": "markdown",
   "id": "ee9e719a-be28-4d8c-bcbf-1fc570af9511",
   "metadata": {},
   "source": [
    "1. Write a program to input n numbers and store them in a list. Then perform the following\n",
    "operations: i) Using built in functions ii) without using built-in functions:\n",
    "a. Find the maximum and minimum number\n",
    "b. Sort the list in ascending order\n",
    "c. Remove duplicate elements"
   ]
  },
  {
   "cell_type": "code",
   "execution_count": 3,
   "id": "9afb3384-e0e0-48ae-bdaf-852214ef44e7",
   "metadata": {},
   "outputs": [
    {
     "name": "stdin",
     "output_type": "stream",
     "text": [
      "enter the number of elements in list: 4\n",
      "enter number1:  43\n",
      "enter number2:  23\n",
      "enter number3:  321\n",
      "enter number4:  314\n"
     ]
    },
    {
     "name": "stdout",
     "output_type": "stream",
     "text": [
      "maximum number: 321\n",
      "minimum number: 23\n",
      "sorted list [23, 43, 314, 321]\n",
      "unique elements: [321, 314, 43, 23]\n"
     ]
    }
   ],
   "source": [
    "n=int(input(\"enter the number of elements in list:\"))\n",
    "l=[]\n",
    "for i in range(n):\n",
    "    num=int(input(f\"enter number{i + 1}: \") )\n",
    "    l.append(num)\n",
    "print(\"maximum number:\",max(l))\n",
    "print(\"minimum number:\",min(l))\n",
    "print(\"sorted list\",sorted(l))\n",
    "print(\"unique elements:\",list(set(l)))"
   ]
  },
  {
   "cell_type": "markdown",
   "id": "47a42c9c-f143-4ffc-9ddc-3f77156c013a",
   "metadata": {},
   "source": [
    "2. Given two lists of integers, write a program to merge them into a single list and then remove the elements that are common in both."
   ]
  },
  {
   "cell_type": "code",
   "execution_count": 4,
   "id": "f1d82783-849c-4752-8e9b-c4e0584f5fc8",
   "metadata": {},
   "outputs": [
    {
     "name": "stdout",
     "output_type": "stream",
     "text": [
      "merged list [33, 11, 44, 22, 55, 66, 44, 77, 55, 88]\n",
      "[33, 11, 22, 66, 77, 88]\n"
     ]
    }
   ],
   "source": [
    "l1=set([11,22,33,44,55])\n",
    "l2=set([44,55,66,77,88])\n",
    "merged= []\n",
    "for i in l1:\n",
    "    merged.append(i)\n",
    "for j in l2:\n",
    "    merged.append(j)\n",
    "print(\"merged list\",merged)\n",
    "i=l1.intersection(l2)\n",
    "for j in merged:\n",
    "    if j in i:\n",
    "        merged.remove(j)\n",
    "print(merged)        "
   ]
  },
  {
   "cell_type": "markdown",
   "id": "6c44da4e-dde0-4622-95c6-8f11b570a277",
   "metadata": {},
   "source": [
    "3. Create a program that reads a sentence from the user and stores each word as an\n",
    "element of a list. Then count the frequency of each word using only lists."
   ]
  },
  {
   "cell_type": "code",
   "execution_count": 5,
   "id": "5303e068-2a5f-4139-9660-c103b52cb296",
   "metadata": {},
   "outputs": [
    {
     "name": "stdin",
     "output_type": "stream",
     "text": [
      "enter a sentence WHATEVER I DON'T CARE\n"
     ]
    },
    {
     "name": "stdout",
     "output_type": "stream",
     "text": [
      "{\"DON'T\": 1, 'I': 1, 'CARE': 1, 'WHATEVER': 1}\n"
     ]
    }
   ],
   "source": [
    "sentence = input(\"enter a sentence\")\n",
    "words = sentence.split(\" \")\n",
    "uniq_words = set(words)\n",
    "d = {}\n",
    "for word in uniq_words:\n",
    "    d[word] = words.count(word)\n",
    "\n",
    "print(d)"
   ]
  },
  {
   "cell_type": "markdown",
   "id": "7a12c385-069b-4425-9a3c-fb2ae5386f44",
   "metadata": {},
   "source": [
    "4. Write a program to simulate a basic stack and queue using a list. Provide options to push, pop (stack), enqueue, and dequeue (queue)."
   ]
  },
  {
   "cell_type": "code",
   "execution_count": 6,
   "id": "b72aedf6-ce66-45eb-bc5d-f52b80666ab2",
   "metadata": {},
   "outputs": [
    {
     "name": "stdout",
     "output_type": "stream",
     "text": [
      "enter 1:push 2:pop 3:enqueue 4:dequeue 5:display stack and queue 6:exit\n"
     ]
    },
    {
     "name": "stdin",
     "output_type": "stream",
     "text": [
      "enter 1-6: 1\n",
      "enter number to push into stack: 12\n"
     ]
    },
    {
     "name": "stdout",
     "output_type": "stream",
     "text": [
      "pushed to stack\n",
      "enter 1:push 2:pop 3:enqueue 4:dequeue 5:display stack and queue 6:exit\n"
     ]
    },
    {
     "name": "stdin",
     "output_type": "stream",
     "text": [
      "enter 1-6: 6\n"
     ]
    },
    {
     "name": "stdout",
     "output_type": "stream",
     "text": [
      "exiting the program\n"
     ]
    }
   ],
   "source": [
    "stack=[]\n",
    "queue=[]\n",
    "while True:\n",
    "    print(\"enter 1:push 2:pop 3:enqueue 4:dequeue 5:display stack and queue 6:exit\")\n",
    "    choice=input(\"enter 1-6:\")\n",
    "    if choice=='1':\n",
    "        n=int(input(\"enter number to push into stack:\"))\n",
    "        stack.append(n)\n",
    "        print(\"pushed to stack\")\n",
    "    elif choice=='2':\n",
    "        if(len(stack)==0):\n",
    "            print(\"stack is empty\")\n",
    "            continue\n",
    "        print(f'deleted element is:{stack.pop()}')\n",
    "    elif choice=='3':\n",
    "        n=int(input('enter a number to enqueue in queue:'))\n",
    "        queue.append(n)\n",
    "        print(\"enqueued to queue\")\n",
    "    elif choice=='4':\n",
    "        if(len(queue)==0):\n",
    "           print(\"queue is empty\")\n",
    "           continue\n",
    "        print(f'deleted element is: {queue.pop(1)}')\n",
    "    elif choice=='5':\n",
    "         if(len(stack)==0):\n",
    "            print(\"stack is empty\")\n",
    "            continue\n",
    "         print(f\"elements in stack:{stack}\")\n",
    "         if(len(queue)==0):\n",
    "           print(\"queue is empty\")\n",
    "           continue\n",
    "         print(f\"elements in queue:{queue}\")\n",
    "    elif choice=='6':\n",
    "        print(\"exiting the program\")\n",
    "        break\n",
    "    else:\n",
    "        print(\"invalid choice\")"
   ]
  },
  {
   "cell_type": "markdown",
   "id": "55aecae5-a043-4f5f-b340-3b877a1698ea",
   "metadata": {},
   "source": [
    "5. Write a Python function that accepts a list and returns a new list containing only the elements at even indexes and those that are prime numbers."
   ]
  },
  {
   "cell_type": "code",
   "execution_count": 7,
   "id": "69e57045-4cb4-42f7-8263-eea3adfb139b",
   "metadata": {},
   "outputs": [
    {
     "name": "stdout",
     "output_type": "stream",
     "text": [
      "[10, 11, 12, 13, 14, 17, 18, 19, 20]\n"
     ]
    }
   ],
   "source": [
    "def is_prime(n):\n",
    "    if n <= 1:\n",
    "        return False\n",
    "    if n <= 3:\n",
    "        return True\n",
    "    if n % 2 == 0 or n % 3 == 0:\n",
    "        return False\n",
    "    i = 5\n",
    "    while i * i <= n:\n",
    "        if n % i == 0 or n % (i + 2) == 0:\n",
    "            return False\n",
    "        i += 6\n",
    "    return True\n",
    "\n",
    "def filter_even_index_or_prime(lst):\n",
    "    result = []\n",
    "    for index, value in enumerate(lst):\n",
    "        if index % 2 == 0 or is_prime(value):\n",
    "            result.append(value)\n",
    "    return result\n",
    "\n",
    "# Example usage:\n",
    "lst = [10, 11, 12, 13, 14, 17, 18, 19, 20, 22]\n",
    "print(filter_even_index_or_prime(lst))\n",
    "# Output: [10, 11, 12, 13, 14, 17, 18, 19, 20]\n"
   ]
  },
  {
   "cell_type": "markdown",
   "id": "fb3d33b0-fa71-4184-ba28-3b837047e400",
   "metadata": {},
   "source": [
    "6. Write a program to create a tuple of n numbers, then find:\n",
    "a. The average of the numbers\n",
    "b. The median\n",
    "c. The mode (without using libraries)"
   ]
  },
  {
   "cell_type": "code",
   "execution_count": 8,
   "id": "c04a7d99-7140-4ed6-8b01-baafe3eeea5d",
   "metadata": {},
   "outputs": [
    {
     "name": "stdin",
     "output_type": "stream",
     "text": [
      "enter the number of elements in list: 3\n",
      "enter number1:  798\n",
      "enter number2:  709\n",
      "enter number3:  879679\n"
     ]
    },
    {
     "name": "stdout",
     "output_type": "stream",
     "text": [
      "mean= 293728.6666666667\n",
      "median: 1\n",
      "0\n",
      "Mode: 709\n"
     ]
    }
   ],
   "source": [
    "n=int(input(\"enter the number of elements in list:\"))\n",
    "l=[]\n",
    "for i in range(n):\n",
    "    num=int(input(f\"enter number{i + 1}: \") )\n",
    "    l.append(num)\n",
    "t=tuple(l)\n",
    "avg=sum(t)/len(t)\n",
    "print(\"mean=\",avg)\n",
    "s=sorted(t)\n",
    "if(len(t)%2==0):\n",
    "    n1= t[len(t)//2]\n",
    "    n2= t[(len(t)//2)+1]\n",
    "    median=(n1+n2)/2\n",
    "else:\n",
    "    median=len(t)//2\n",
    "print(\"median:\",median)\n",
    "uniq_l = tuple(set(t))\n",
    "counts = []\n",
    "for n in uniq_l:\n",
    "    counts.append(t.count(n))\n",
    "max_freq = max(counts)\n",
    "index_max = counts.index(max_freq)\n",
    "print(index_max)\n",
    "print(f'Mode: {uniq_l[index_max]}')"
   ]
  },
  {
   "cell_type": "markdown",
   "id": "91ade9f4-ca21-4216-83cc-bc641892c051",
   "metadata": {},
   "source": [
    "8. Write a program to input two sets of student roll numbers: one who play cricket and\n",
    "another who play football. Find:\n",
    "a. Students who play both sports\n",
    "b. Students who play only one sport\n",
    "c. Students who play neither (given a master list of all students)"
   ]
  },
  {
   "cell_type": "code",
   "execution_count": 9,
   "id": "5fbfe711-ca15-4079-874b-6fa802e12a1b",
   "metadata": {},
   "outputs": [
    {
     "name": "stdin",
     "output_type": "stream",
     "text": [
      "enter roll no of all students separated by space: 1 2 3 4 5\n",
      "enter roll no of cricket players separated by space: 1 2 \n",
      "enter roll no of football players separated by space: 1 \n"
     ]
    },
    {
     "name": "stdout",
     "output_type": "stream",
     "text": [
      "Student who plays both: {'1'}\n",
      "student who plays only one: {'2'}\n",
      "student who plays neither of them {'3', '5', '4'}\n"
     ]
    }
   ],
   "source": [
    "total=set(input(\"enter roll no of all students separated by space:\").split())\n",
    "cp=set(input(\"enter roll no of cricket players separated by space:\").split())\n",
    "fp=set(input(\"enter roll no of football players separated by space:\").split())\n",
    "print(\"Student who plays both:\",(cp & fp))\n",
    "print(\"student who plays only one:\",(cp^fp))\n",
    "print(\"student who plays neither of them\",(total-(cp | fp)))"
   ]
  },
  {
   "cell_type": "markdown",
   "id": "077c66f7-e3b5-4a57-853c-ff1993a4b7ae",
   "metadata": {},
   "source": [
    "9. Create a set of random numbers. Add more numbers until the set has 10 unique\n",
    "elements. Also, remove the smallest and largest element."
   ]
  },
  {
   "cell_type": "code",
   "execution_count": 10,
   "id": "152c8fb8-7a2c-4b11-b7f3-871f77ee6306",
   "metadata": {},
   "outputs": [
    {
     "name": "stdout",
     "output_type": "stream",
     "text": [
      "{99, 68, 5, 100, 26, 3, 41, 9, 58, 62}\n",
      "after removing smallest and largest elements: {99, 68, 5, 26, 41, 9, 58, 62}\n"
     ]
    }
   ],
   "source": [
    "import random\n",
    "n=set()\n",
    "while (len(n)<10):\n",
    "    n.add(random.randint(1,100))\n",
    "print(n)\n",
    "n.remove(max(n))\n",
    "n.remove(min(n))\n",
    "print(\"after removing smallest and largest elements:\",n)"
   ]
  },
  {
   "cell_type": "markdown",
   "id": "c1dfd09c-75f1-400a-a75b-7e0cf08ad171",
   "metadata": {},
   "source": [
    "10. Write a Python function that accepts a sentence and returns a set of all unique vowels used."
   ]
  },
  {
   "cell_type": "code",
   "execution_count": 11,
   "id": "16064890-7fd6-4ff2-9771-6494cbdc52a2",
   "metadata": {},
   "outputs": [
    {
     "name": "stdin",
     "output_type": "stream",
     "text": [
      "enter a sentence: A LITTLE BROWN FOX JUMPS OVER THE WALL\n"
     ]
    },
    {
     "name": "stdout",
     "output_type": "stream",
     "text": [
      "{'u', 'o', 'e', 'a', 'i'}\n"
     ]
    }
   ],
   "source": [
    "s=input(\"enter a sentence:\")\n",
    "v={'a','e','i','o','u'}\n",
    "lower=s.lower()\n",
    "unique=set()\n",
    "for i in lower:\n",
    "    if i in v:\n",
    "        unique.add(i)\n",
    "print(unique)"
   ]
  },
  {
   "cell_type": "markdown",
   "id": "d0b5865f-709a-4a6d-bca2-dccbe0285ca6",
   "metadata": {},
   "source": [
    "11. Given a list of numbers with duplicates, use a set to remove the duplicates. Then, convert it back to a sorted list and display the result."
   ]
  },
  {
   "cell_type": "code",
   "execution_count": 12,
   "id": "0314a65b-fad4-4d77-869d-c4964460ce13",
   "metadata": {},
   "outputs": [
    {
     "name": "stdout",
     "output_type": "stream",
     "text": [
      "sorted list after removing duplicates: [3, 5, 6, 7, 9, 10, 11, 22, 44]\n"
     ]
    }
   ],
   "source": [
    "l=[11,22,3,3,44,5,5,5,6,7,9,10]\n",
    "s=list(set(l))\n",
    "sort=sorted(s)\n",
    "print(\"sorted list after removing duplicates:\",sort)"
   ]
  },
  {
   "cell_type": "markdown",
   "id": "40fc1c44-a9f1-42f3-afff-02033c59f099",
   "metadata": {},
   "source": [
    "12. Create a dictionary to store student names as keys and their scores in three subjects as\n",
    "values (in a list). Write functions to:\n",
    "a. Display the average marks of each student\n",
    "b. Find the topper\n",
    "c. Update the marks of a student"
   ]
  },
  {
   "cell_type": "code",
   "execution_count": 13,
   "id": "40f6d834-ad6d-4198-ad4a-7935728588ad",
   "metadata": {},
   "outputs": [
    {
     "name": "stdin",
     "output_type": "stream",
     "text": [
      "Enter number of students:  2\n",
      "Enter name of student 1:  Ishant Yadav\n",
      "Enter marks:  29\n",
      "Enter marks:  20\n",
      "Enter marks:  89\n",
      "Enter name of student 2:  Jitu Joshi\n",
      "Enter marks:  87\n",
      "Enter marks:  88\n",
      "Enter marks:  88\n"
     ]
    },
    {
     "name": "stdout",
     "output_type": "stream",
     "text": [
      "\n",
      "Average Marks:\n",
      "Ishant Yadav: 46.00\n",
      "Jitu Joshi: 87.67\n",
      "\n",
      "Topper: Jitu Joshi with average marks 87.67\n"
     ]
    },
    {
     "name": "stdin",
     "output_type": "stream",
     "text": [
      "\n",
      "Enter the name of student to update marks:  Ishant Yadav\n",
      "Enter new mark:  99\n",
      "Enter new mark:  88\n",
      "Enter new mark:  99\n"
     ]
    },
    {
     "name": "stdout",
     "output_type": "stream",
     "text": [
      "Marks updated for Ishant Yadav.\n",
      "\n",
      "Average Marks:\n",
      "Ishant Yadav: 95.33\n",
      "Jitu Joshi: 87.67\n",
      "\n",
      "Topper: Ishant Yadav with average marks 95.33\n"
     ]
    }
   ],
   "source": [
    "def input_students():\n",
    "    n = int(input(\"Enter number of students: \"))\n",
    "    students = {}\n",
    "    for i in range(n):\n",
    "        name = input(f\"Enter name of student {i+1}: \")\n",
    "        marks = []\n",
    "        for j in range(3):\n",
    "            m = int(input(\"Enter marks: \"))\n",
    "            marks.append(m)\n",
    "        students[name] = marks\n",
    "    return students\n",
    "def display_averages(students):\n",
    "    averages = {}\n",
    "    print(\"\\nAverage Marks:\")\n",
    "    for name, marks in students.items():\n",
    "        avg = sum(marks) / len(marks)\n",
    "        averages[name] = avg\n",
    "        print(f\"{name}: {avg:.2f}\")\n",
    "    return averages\n",
    "def find_topper(averages):\n",
    "    topper = max(averages, key=averages.get)\n",
    "    print(f\"\\nTopper: {topper} with average marks {averages[topper]:.2f}\")\n",
    "def update_marks(students):\n",
    "    update_name = input(\"\\nEnter the name of student to update marks: \")\n",
    "    if update_name in students:\n",
    "        new_marks = []\n",
    "        for j in range(3):\n",
    "            m = int(input(\"Enter new mark: \"))\n",
    "            new_marks.append(m)\n",
    "        students[update_name] = new_marks\n",
    "        print(f\"Marks updated for {update_name}.\")\n",
    "    else:\n",
    "        print(\"Student not found.\")\n",
    "students = input_students()\n",
    "averages = display_averages(students)\n",
    "find_topper(averages)\n",
    "update_marks(students)\n",
    "averages = display_averages(students)\n",
    "find_topper(averages)"
   ]
  },
  {
   "cell_type": "markdown",
   "id": "0319dd29-7865-430b-995b-37dd73b0f2a8",
   "metadata": {},
   "source": [
    "13. Write a program that reads a text and counts the frequency of each character (excluding\n",
    "spaces and special characters) using a dictionary."
   ]
  },
  {
   "cell_type": "code",
   "execution_count": 15,
   "id": "f27cef3f-e562-4d60-a622-1bb050717407",
   "metadata": {},
   "outputs": [
    {
     "name": "stdin",
     "output_type": "stream",
     "text": [
      "enter a text: pneumonoultramicroscopicsilicovolcanoconiosis\n"
     ]
    },
    {
     "name": "stdout",
     "output_type": "stream",
     "text": [
      "p:2 n:4 e:1 u:2 m:2 o:9 l:3 t:1 r:2 a:2 i:6 c:6 s:4 v:1 "
     ]
    }
   ],
   "source": [
    "s=input(\"enter a text:\")\n",
    "d={}\n",
    "l=s.lower()\n",
    "for i in l:\n",
    "    if i.isalpha():\n",
    "        if i in d:\n",
    "            d[i]+=1\n",
    "        else:\n",
    "            d[i]=1\n",
    "for i,count in d.items():\n",
    "    print(f\"{i}:{count}\",end=\" \")"
   ]
  },
  {
   "cell_type": "markdown",
   "id": "e6a1ba16-95f6-42f0-85f6-1ba855706310",
   "metadata": {},
   "source": [
    "14. Build a dictionary where the keys are product names and the values are their prices.\n",
    "Implement options to:\n",
    "a. Add a new product\n",
    "b. Update price of an existing product\n",
    "c. Find products within a given price range"
   ]
  },
  {
   "cell_type": "code",
   "execution_count": 16,
   "id": "d0e9752d-3959-48df-9fe8-b597c21b819d",
   "metadata": {},
   "outputs": [
    {
     "name": "stdout",
     "output_type": "stream",
     "text": [
      "\n",
      "Product Menu:\n",
      "1. Add new product\n",
      "2. Update price of a product\n",
      "3. Find products within a price range\n",
      "4. Display all products\n",
      "5. Exit\n"
     ]
    },
    {
     "name": "stdin",
     "output_type": "stream",
     "text": [
      "Enter your choice (1-5):  1\n",
      "Enter product name:  WHATEVER\n",
      "Enter product price:  22222\n"
     ]
    },
    {
     "name": "stdout",
     "output_type": "stream",
     "text": [
      "Product added.\n",
      "\n",
      "Product Menu:\n",
      "1. Add new product\n",
      "2. Update price of a product\n",
      "3. Find products within a price range\n",
      "4. Display all products\n",
      "5. Exit\n"
     ]
    },
    {
     "name": "stdin",
     "output_type": "stream",
     "text": [
      "Enter your choice (1-5):  5\n"
     ]
    },
    {
     "name": "stdout",
     "output_type": "stream",
     "text": [
      "Exiting...\n"
     ]
    }
   ],
   "source": [
    "products = {}\n",
    "while True:\n",
    "    print(\"\\nProduct Menu:\")\n",
    "    print(\"1. Add new product\")\n",
    "    print(\"2. Update price of a product\")\n",
    "    print(\"3. Find products within a price range\")\n",
    "    print(\"4. Display all products\")\n",
    "    print(\"5. Exit\")\n",
    "    choice = input(\"Enter your choice (1-5): \")\n",
    "    if choice == \"1\":\n",
    "        name = input(\"Enter product name: \")\n",
    "        if name in products:\n",
    "            print(\"Product already exists.\")\n",
    "        else:\n",
    "            price = float(input(\"Enter product price: \"))\n",
    "            products[name] = price\n",
    "            print(\"Product added.\")\n",
    "\n",
    "    elif choice == \"2\":\n",
    "        name = input(\"Enter product name to update: \")\n",
    "        if name in products:\n",
    "            price = float(input(\"Enter new price: \"))\n",
    "            products[name] = price\n",
    "            print(\"Price updated.\")\n",
    "        else:\n",
    "            print(\"Product not found.\")\n",
    "    elif choice == \"3\":\n",
    "        min_price = float(input(\"Enter minimum price: \"))\n",
    "        max_price = float(input(\"Enter maximum price: \"))\n",
    "        print(f\"Products between {min_price} and {max_price}:\")\n",
    "        found = False\n",
    "        for name, price in products.items():\n",
    "            if min_price <= price <= max_price:\n",
    "                print(f\"{name}: {price}\")\n",
    "                found = True\n",
    "        if not found:\n",
    "            print(\"No products found in this range.\")\n",
    "\n",
    "    elif choice == \"4\":\n",
    "        print(\"All Products:\")\n",
    "        for name, price in products.items():\n",
    "            print(f\"{name}: {price}\")\n",
    "    elif choice == \"5\":\n",
    "        print(\"Exiting...\")\n",
    "        break\n",
    "    else:\n",
    "        print(\"Invalid choice. Please enter 1-5.\")"
   ]
  },
  {
   "cell_type": "markdown",
   "id": "efcdca48-f959-4c47-8f31-018e0a5c89f7",
   "metadata": {},
   "source": [
    "## MINI PROJECT: Student Report Card Management System"
   ]
  },
  {
   "cell_type": "markdown",
   "id": "972f43d0-796a-4e37-9fa5-8fa354d02091",
   "metadata": {},
   "source": [
    "\n",
    "Problem Statement:\n",
    "Design and implement a Student Report Card Management System using Python that\n",
    "allows a teacher to:\n",
    "\n",
    "● Add new student records (name, roll number, subject-wise marks).\n",
    "● View the report of all students.\n",
    "● Display the topper(s) of the class based on average marks.\n",
    "● Search for a student by roll number.\n",
    "● Display all students who have failed in one or more subjects.\n",
    "● Optionally update marks of any student."
   ]
  },
  {
   "cell_type": "code",
   "execution_count": null,
   "id": "9db1c130-aada-415d-bb5c-422003d5f543",
   "metadata": {},
   "outputs": [
    {
     "name": "stdout",
     "output_type": "stream",
     "text": [
      "******** STUDENT MANAGEMENT SYSTEM ********\n",
      "1. Add new student records\n",
      "2. View report of all students\n",
      "3. Display topper\n",
      "4. Search for student by roll number\n",
      "5. Display students who have failed\n",
      "6. Update marks of any student\n",
      "7. Exit\n"
     ]
    },
    {
     "name": "stdin",
     "output_type": "stream",
     "text": [
      "Enter your choice (1-7):  1\n",
      "Enter roll number of student:  081BEL035\n",
      "Enter name:  GRISHMA SITAULA\n",
      "Enter marks for Electronics:  88\n",
      "Enter marks for Electric Circuit:  99\n",
      "Enter marks for Maths:  99\n"
     ]
    }
   ],
   "source": [
    "s = {}\n",
    "while True:\n",
    "    print('******** STUDENT MANAGEMENT SYSTEM ********')\n",
    "    print(\"1. Add new student records\")\n",
    "    print(\"2. View report of all students\")\n",
    "    print(\"3. Display topper\")\n",
    "    print(\"4. Search for student by roll number\")\n",
    "    print(\"5. Display students who have failed\")\n",
    "    print(\"6. Update marks of any student\")\n",
    "    print(\"7. Exit\")\n",
    "    choice = int(input(\"Enter your choice (1-7): \"))\n",
    "    if choice == 1:\n",
    "        roll = input(\"Enter roll number of student: \")\n",
    "        if roll in s:\n",
    "            print(\"Student with this roll number already exists.\")\n",
    "        else:\n",
    "            name = input(\"Enter name: \")\n",
    "            sub = ['Electronics', 'Electric Circuit', 'Maths', 'Advanced Programming', 'Chemistry']\n",
    "            marks = {}\n",
    "            for subject in sub:\n",
    "                score = int(input(f\"Enter marks for {subject}: \"))\n",
    "                marks[subject] = score\n",
    "            s[roll] = {\"Name\": name, \"marks\": marks}\n",
    "            print(\"Student record added successfully.\")\n",
    "    elif choice == 2:\n",
    "        if not s:\n",
    "            print(\"No records found.\")\n",
    "        else:\n",
    "            print(\"\\nStudent Reports:\")\n",
    "            for roll, data in s.items():\n",
    "                print(f'\\nRoll No: {roll}')\n",
    "                print(f'Name   : {data[\"Name\"]}')\n",
    "                for subject, score in data['marks'].items():\n",
    "                    print(f'  {subject}: {score}')\n",
    "                avg = sum(data['marks'].values()) / len(data['marks'])\n",
    "                print(f'  Average: {avg:.2f}')\n",
    "    elif choice == 3:\n",
    "        if not s:\n",
    "            print(\"No records found.\")\n",
    "        else:\n",
    "            max_avg = -1\n",
    "            toppers = []\n",
    "            for roll, data in s.items():\n",
    "                total = sum(data['marks'].values())\n",
    "                avg = total / len(data['marks'])\n",
    "                if avg > max_avg:\n",
    "                    max_avg = avg\n",
    "                    toppers = [(roll, data['Name'], avg)]\n",
    "                elif avg == max_avg:\n",
    "                    toppers.append((roll, data['Name'], avg))\n",
    "            print(\"\\nTopper(s) of the Class:\")\n",
    "            for t in toppers:\n",
    "                print(f\"Roll: {t[0]}, Name: {t[1]}, Average Marks: {t[2]:.2f}\")\n",
    "    elif choice == 4:\n",
    "        roll = input(\"Enter roll number to search: \")\n",
    "        if roll in s:\n",
    "            data = s[roll]\n",
    "            print(f\"\\nRoll No: {roll}\")\n",
    "            print(f\"Name   : {data['Name']}\")\n",
    "            for subject, score in data['marks'].items():\n",
    "                print(f\"  {subject}: {score}\")\n",
    "            avg = sum(data['marks'].values()) / len(data['marks'])\n",
    "            print(f\"  Average: {avg:.2f}\")\n",
    "        else:\n",
    "            print(\"Student not found.\")\n",
    "    elif choice == 5:\n",
    "        print(\"\\nStudents who failed in one or more subjects (marks < 40):\")\n",
    "        found = False\n",
    "        for roll, data in s.items():\n",
    "            failed_subjects = [sub for sub, score in data['marks'].items() if score < 40]\n",
    "            if failed_subjects:\n",
    "                found = True\n",
    "                print(f\"{data['Name']} (Roll: {roll}) failed in: {', '.join(failed_subjects)}\")\n",
    "        if not found:\n",
    "            print(\"No student has failed in any subject.\")\n",
    "    elif choice == 6:\n",
    "        roll = input(\"Enter roll number to update marks: \")\n",
    "        if roll in s:\n",
    "            subject = input(\"Enter subject to update: \")\n",
    "            if subject in s[roll]['marks']:\n",
    "                new_mark = int(input(\"Enter new mark: \"))\n",
    "                s[roll]['marks'][subject] = new_mark\n",
    "                print(\"Marks updated successfully.\")\n",
    "            else:\n",
    "                print(\"Subject not found.\")\n",
    "        else:\n",
    "            print(\"Student not found!!\")\n",
    "    elif choice == 7:\n",
    "        print(\"Exiting program!!!\")\n",
    "        break\n",
    "    else:\n",
    "        print(\"Invalid choice!!!\")"
   ]
  },
  {
   "cell_type": "code",
   "execution_count": null,
   "id": "0075cbe7-62da-4295-9541-b827528f396d",
   "metadata": {},
   "outputs": [],
   "source": []
  }
 ],
 "metadata": {
  "kernelspec": {
   "display_name": "Python 3 (ipykernel)",
   "language": "python",
   "name": "python3"
  },
  "language_info": {
   "codemirror_mode": {
    "name": "ipython",
    "version": 3
   },
   "file_extension": ".py",
   "mimetype": "text/x-python",
   "name": "python",
   "nbconvert_exporter": "python",
   "pygments_lexer": "ipython3",
   "version": "3.13.5"
  }
 },
 "nbformat": 4,
 "nbformat_minor": 5
}
